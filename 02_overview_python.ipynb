{
 "cells": [
  {
   "cell_type": "markdown",
   "metadata": {},
   "source": [
    "[![Open In Colab](https://colab.research.google.com/assets/colab-badge.svg)](https://colab.research.google.com/github/PongthepGeo/ML_22/blob/master/02_overview_python.ipynb)"
   ]
  },
  {
   "cell_type": "markdown",
   "metadata": {},
   "source": [
    "## Overview Python\n",
    "\n",
    "Recap what we had studied Python from computer programming, we are going to cover variables, assigment statements, types, arithmetrics, and decision making."
   ]
  },
  {
   "attachments": {},
   "cell_type": "markdown",
   "metadata": {},
   "source": [
    "#### 1. Variables and assigment statements\n",
    "\n",
    "The mathetematic equation of the Newton's secound law can express as the equation below\n",
    "\n",
    "$$\n",
    "F = ma\n",
    "$$\n",
    "\n",
    "We define $F$ (forace) as a product of $m$ (mass) multiples with $a$ (accerlation). Python relates this mathematic expression as variables $F$, $m$, and $a$, respectively. The assigment statment refers to **LHS** stores values or variables from the **RHS**."
   ]
  },
  {
   "cell_type": "code",
   "execution_count": null,
   "metadata": {},
   "outputs": [],
   "source": [
    "x = 10 + 20\n",
    "print('output: ', x)"
   ]
  },
  {
   "attachments": {},
   "cell_type": "markdown",
   "metadata": {},
   "source": [
    "This example cannot compile when switching **LHS** and **RHS**."
   ]
  },
  {
   "cell_type": "code",
   "execution_count": null,
   "metadata": {},
   "outputs": [],
   "source": [
    "10 + 20 = x\n",
    "print('output: ', x)"
   ]
  },
  {
   "attachments": {},
   "cell_type": "markdown",
   "metadata": {},
   "source": [
    "Let's try to create the equation"
   ]
  },
  {
   "cell_type": "code",
   "execution_count": null,
   "metadata": {},
   "outputs": [],
   "source": [
    "# predefine variables\n",
    "x = 10\n",
    "a = 9.81\n",
    "F = x*a\n",
    "print('Force: ', F, 'unit')"
   ]
  },
  {
   "cell_type": "markdown",
   "metadata": {},
   "source": [
    "#### 2. Variable name, argument, and type\n",
    "\n",
    "Type is a buit-in function in Python that is used for verify class or type of variable. "
   ]
  },
  {
   "cell_type": "code",
   "execution_count": null,
   "metadata": {},
   "outputs": [],
   "source": [
    "print('type of variable x is ', type(x), ' and x is called identifier')"
   ]
  },
  {
   "cell_type": "code",
   "execution_count": null,
   "metadata": {},
   "outputs": [],
   "source": [
    "print('type of variable a is ', type(a), ' and a is called identifier')"
   ]
  },
  {
   "cell_type": "code",
   "execution_count": null,
   "metadata": {},
   "outputs": [],
   "source": [
    "print('type of variable F is ', type(F), ' and F is called identifier')"
   ]
  },
  {
   "cell_type": "markdown",
   "metadata": {},
   "source": [
    "Buit-in **type** identifies interger and floating-piont number. Definitions of both classes will be explianed in the section \"**classes**\"."
   ]
  },
  {
   "cell_type": "markdown",
   "metadata": {},
   "source": [
    "#### 3. Arithmemic operator\n",
    "\n",
    "<p align=\"center\">\n",
    "  <img width=\"300\" src=\"pictures/arithmetic.png\">\n",
    "</p>\n",
    "\n",
    "Python uses these arithemic calculations for computing algebra. Please explore these the operator examples and modify the cell below.\n"
   ]
  },
  {
   "cell_type": "code",
   "execution_count": null,
   "metadata": {},
   "outputs": [],
   "source": [
    "m = 100; a = 9.81\n",
    "F = m/a\n",
    "print('F =  ', F)"
   ]
  },
  {
   "cell_type": "markdown",
   "metadata": {},
   "source": [
    "### 3. Decision making (if, elif, else statements)\n",
    "\n",
    "<p align=\"center\">\n",
    "  <img width=\"500\" src=\"pictures/make.png\">\n",
    "</p>\n",
    "\n",
    "If, elif statements are used to perform different conditions. For classic examples, grading policy is commonly used to classify examinee performances."
   ]
  },
  {
   "cell_type": "markdown",
   "metadata": {},
   "source": [
    "Assigment 1: create condition statement that can manipulate the grading policy."
   ]
  },
  {
   "cell_type": "code",
   "execution_count": 8,
   "metadata": {},
   "outputs": [
    {
     "name": "stdout",
     "output_type": "stream",
     "text": [
      "dd\n"
     ]
    }
   ],
   "source": [
    "# input score\n",
    "score = 'h'\n",
    "# letter grade A\n",
    "# grade = 'F'\n",
    "if type(score) == int:\n",
    "    if score >= 80 and score < 100:\n",
    "        print('your letter grade is A')\n",
    "    elif score >= 70 and score <= 80:\n",
    "        print('your letter grade is B')\n",
    "    else:\n",
    "        print('error')\n",
    "elif type(score) != int:\n",
    "    print('dd')"
   ]
  }
 ],
 "metadata": {
  "kernelspec": {
   "display_name": "Python 3",
   "language": "python",
   "name": "python3"
  },
  "language_info": {
   "codemirror_mode": {
    "name": "ipython",
    "version": 3
   },
   "file_extension": ".py",
   "mimetype": "text/x-python",
   "name": "python",
   "nbconvert_exporter": "python",
   "pygments_lexer": "ipython3",
   "version": "3.9.6"
  },
  "orig_nbformat": 4,
  "vscode": {
   "interpreter": {
    "hash": "31f2aee4e71d21fbe5cf8b01ff0e069b9275f58929596ceb00d14d90e3e16cd6"
   }
  }
 },
 "nbformat": 4,
 "nbformat_minor": 2
}
